{
 "cells": [
  {
   "cell_type": "markdown",
   "metadata": {
    "id": "79vVaI0EwwgR"
   },
   "source": [
    "# Pipeline for the anomaly detection on the SKAB using Convolutional Autoencoder"
   ]
  },
  {
   "cell_type": "code",
   "execution_count": null,
   "metadata": {
    "executionInfo": {
     "elapsed": 681,
     "status": "ok",
     "timestamp": 1712515213109,
     "user": {
      "displayName": "Vladimir Fedoseev",
      "userId": "13989025000887112901"
     },
     "user_tz": -120
    },
    "id": "ndZ-cMQQwwgU"
   },
   "outputs": [],
   "source": [
    "# libraries importing\n",
    "import pandas as pd\n",
    "import matplotlib.pyplot as plt\n",
    "import tensorflow as tf\n",
    "%matplotlib inline\n",
    "import seaborn as sns\n",
    "from tqdm import tqdm\n",
    "\n",
    "# additional modules\n",
    "import sys\n",
    "sys.path.append('../algorithms')\n",
    "\n",
    "import warnings\n",
    "warnings.filterwarnings(\"ignore\", category=UserWarning)"
   ]
  },
  {
   "cell_type": "code",
   "execution_count": null,
   "metadata": {},
   "outputs": [],
   "source": [
    "# 'pip install tsad' if needed\n",
    "# !pip install tsad\n",
    "import tsad\n",
    "from tsad.utils.evaluating.evaluating import evaluating"
   ]
  },
  {
   "cell_type": "code",
   "execution_count": null,
   "metadata": {},
   "outputs": [],
   "source": []
  },
  {
   "cell_type": "markdown",
   "metadata": {
    "id": "h95LgQGvwwgW"
   },
   "source": [
    "## Data"
   ]
  },
  {
   "cell_type": "markdown",
   "metadata": {
    "id": "ECxz1XMgwwgW"
   },
   "source": [
    "Put the `data` folder from the SKAB repository in the root of this repository. So the path will be following: `../data/`. Or select your own path."
   ]
  },
  {
   "cell_type": "code",
   "execution_count": null,
   "metadata": {
    "executionInfo": {
     "elapsed": 3,
     "status": "ok",
     "timestamp": 1712515217210,
     "user": {
      "displayName": "Vladimir Fedoseev",
      "userId": "13989025000887112901"
     },
     "user_tz": -120
    },
    "id": "FNIY1O1NwwgW"
   },
   "outputs": [],
   "source": [
    "path_to_data = '../data/'"
   ]
  },
  {
   "cell_type": "markdown",
   "metadata": {
    "id": "V9J-3q0SwwgX"
   },
   "source": [
    "## Data loading"
   ]
  },
  {
   "cell_type": "code",
   "execution_count": null,
   "metadata": {
    "executionInfo": {
     "elapsed": 1383,
     "status": "ok",
     "timestamp": 1712515220544,
     "user": {
      "displayName": "Vladimir Fedoseev",
      "userId": "13989025000887112901"
     },
     "user_tz": -120
    },
    "id": "8j-gF5UdwwgX"
   },
   "outputs": [],
   "source": [
    "# benchmark files checking\n",
    "all_files=[]\n",
    "import os\n",
    "for root, dirs, files in os.walk(path_to_data):\n",
    "    for file in files:\n",
    "        if file.endswith(\".csv\"):\n",
    "             all_files.append(os.path.join(root, file))"
   ]
  },
  {
   "cell_type": "code",
   "execution_count": null,
   "metadata": {
    "colab": {
     "base_uri": "https://localhost:8080/"
    },
    "executionInfo": {
     "elapsed": 590,
     "status": "ok",
     "timestamp": 1712515229667,
     "user": {
      "displayName": "Vladimir Fedoseev",
      "userId": "13989025000887112901"
     },
     "user_tz": -120
    },
    "id": "rFQwrayvy78I",
    "outputId": "712b5b1b-6d1b-4d09-c916-b8882a345883"
   },
   "outputs": [],
   "source": [
    "all_files"
   ]
  },
  {
   "cell_type": "code",
   "execution_count": null,
   "metadata": {
    "executionInfo": {
     "elapsed": 19078,
     "status": "ok",
     "timestamp": 1712515252196,
     "user": {
      "displayName": "Vladimir Fedoseev",
      "userId": "13989025000887112901"
     },
     "user_tz": -120
    },
    "id": "dP50pDL9wwgX"
   },
   "outputs": [],
   "source": [
    "# datasets with anomalies loading\n",
    "list_of_df = [pd.read_csv(file,\n",
    "                          sep=';',\n",
    "                          index_col='datetime',\n",
    "                          parse_dates=True) for file in all_files if 'anomaly-free' not in file]\n",
    "# anomaly-free df loading\n",
    "anomaly_free_df = pd.read_csv([file for file in all_files if 'anomaly-free' in file][0],\n",
    "                            sep=';',\n",
    "                            index_col='datetime',\n",
    "                            parse_dates=True)"
   ]
  },
  {
   "cell_type": "markdown",
   "metadata": {
    "id": "cQpJNc3VwwgY"
   },
   "source": [
    "### Data description"
   ]
  },
  {
   "cell_type": "code",
   "execution_count": null,
   "metadata": {
    "colab": {
     "base_uri": "https://localhost:8080/",
     "height": 308
    },
    "executionInfo": {
     "elapsed": 12,
     "status": "ok",
     "timestamp": 1712515252197,
     "user": {
      "displayName": "Vladimir Fedoseev",
      "userId": "13989025000887112901"
     },
     "user_tz": -120
    },
    "id": "8IFRLi9RwwgY",
    "outputId": "d87ef59a-ccf0-4415-bc20-061e02b8953d"
   },
   "outputs": [],
   "source": [
    "# dataset characteristics printing\n",
    "print('SKAB v0.9')\n",
    "print(f'- A number of datasets: {len(list_of_df)}')\n",
    "print(f'- Shape of the random dataset: {list_of_df[10].shape}')\n",
    "n_cp = sum([len(df[df.changepoint==1.]) for df in list_of_df])\n",
    "n_outlier = sum([len(df[df.anomaly==1.]) for df in list_of_df])\n",
    "print(f'- A number of changepoints: {n_cp}')\n",
    "print(f'- A number of outliers (point anomalies): {n_outlier}\\n')\n",
    "print(f'Head of the random dataset:')\n",
    "display(list_of_df[0].head(1))"
   ]
  },
  {
   "cell_type": "markdown",
   "metadata": {
    "id": "Xexy9SJswwgZ"
   },
   "source": [
    "### Data visualization"
   ]
  },
  {
   "cell_type": "code",
   "execution_count": null,
   "metadata": {
    "colab": {
     "base_uri": "https://localhost:8080/",
     "height": 335
    },
    "executionInfo": {
     "elapsed": 803,
     "status": "ok",
     "timestamp": 1712515252992,
     "user": {
      "displayName": "Vladimir Fedoseev",
      "userId": "13989025000887112901"
     },
     "user_tz": -120
    },
    "id": "EHvuEGLnwwgZ",
    "outputId": "6bb28f5a-2c0c-41f8-9d88-7e3d9132269b"
   },
   "outputs": [],
   "source": [
    "# random dataset visualizing\n",
    "list_of_df[1].plot(figsize=(12, 3))\n",
    "plt.xlabel('Time')\n",
    "plt.ylabel('Value')\n",
    "plt.title('Signals')\n",
    "plt.show()"
   ]
  },
  {
   "cell_type": "markdown",
   "metadata": {
    "id": "He-FPHAnwwga"
   },
   "source": [
    "## Method"
   ]
  },
  {
   "cell_type": "markdown",
   "metadata": {
    "id": "YJ19MlO7wwgb"
   },
   "source": [
    "### Method initialization"
   ]
  },
  {
   "cell_type": "code",
   "execution_count": null,
   "metadata": {
    "executionInfo": {
     "elapsed": 944,
     "status": "ok",
     "timestamp": 1712515266459,
     "user": {
      "displayName": "Vladimir Fedoseev",
      "userId": "13989025000887112901"
     },
     "user_tz": -120
    },
    "id": "G4TpQPxCwwgb"
   },
   "outputs": [],
   "source": [
    "from Conv_RNN_AE import Conv_RNN_AE\n",
    "import numpy as np\n",
    "from sklearn.preprocessing import StandardScaler"
   ]
  },
  {
   "cell_type": "code",
   "execution_count": null,
   "metadata": {},
   "outputs": [],
   "source": [
    "gpus = tf.config.list_physical_devices('GPU')\n",
    "print(gpus)\n",
    "if gpus:\n",
    "    try:\n",
    "        tf.config.set_visible_devices(gpus[0], 'GPU')\n",
    "        logical_gpus = tf.config.list_logical_devices('GPU')\n",
    "        print(len(gpus), \"Physical GPUs,\", len(logical_gpus), \"Logical GPU\")\n",
    "    except RuntimeError as e:\n",
    "        print(e)\n",
    "        print('ERROR')\n",
    "else:\n",
    "    print('NO GPUS')"
   ]
  },
  {
   "cell_type": "code",
   "execution_count": null,
   "metadata": {},
   "outputs": [],
   "source": []
  },
  {
   "cell_type": "code",
   "execution_count": null,
   "metadata": {
    "executionInfo": {
     "elapsed": 9,
     "status": "ok",
     "timestamp": 1712515268400,
     "user": {
      "displayName": "Vladimir Fedoseev",
      "userId": "13989025000887112901"
     },
     "user_tz": -120
    },
    "id": "ZDG9nsuvwwgb"
   },
   "outputs": [],
   "source": [
    "# hyperparameters selection\n",
    "N_STEPS = 60\n",
    "Q = 0.999 # quantile for upper control limit (UCL) selection"
   ]
  },
  {
   "cell_type": "code",
   "execution_count": null,
   "metadata": {
    "executionInfo": {
     "elapsed": 9,
     "status": "ok",
     "timestamp": 1712515268402,
     "user": {
      "displayName": "Vladimir Fedoseev",
      "userId": "13989025000887112901"
     },
     "user_tz": -120
    },
    "id": "1qTcwyUpwwgb"
   },
   "outputs": [],
   "source": [
    "# model defining\n",
    "model = Conv_RNN_AE(\n",
    "    dilation_rates=[1, 3, 9],\n",
    "    filters=[8, 4, 2]\n",
    ")"
   ]
  },
  {
   "cell_type": "code",
   "execution_count": null,
   "metadata": {
    "executionInfo": {
     "elapsed": 7,
     "status": "ok",
     "timestamp": 1712515272260,
     "user": {
      "displayName": "Vladimir Fedoseev",
      "userId": "13989025000887112901"
     },
     "user_tz": -120
    },
    "id": "nkp5PCFxwwgc"
   },
   "outputs": [],
   "source": [
    "# Generated training sequences for use in the model.\n",
    "def create_sequences(values, time_steps=N_STEPS):\n",
    "    output = []\n",
    "    for i in range(len(values) - time_steps + 1):\n",
    "        output.append(values[i : (i + time_steps)])\n",
    "    return np.stack(output)"
   ]
  },
  {
   "cell_type": "markdown",
   "metadata": {
    "id": "WdlfwBv3wwgc"
   },
   "source": [
    "### Method fitting and applying"
   ]
  },
  {
   "cell_type": "code",
   "execution_count": null,
   "metadata": {
    "colab": {
     "base_uri": "https://localhost:8080/"
    },
    "executionInfo": {
     "elapsed": 470553,
     "status": "ok",
     "timestamp": 1712515810442,
     "user": {
      "displayName": "Vladimir Fedoseev",
      "userId": "13989025000887112901"
     },
     "user_tz": -120
    },
    "id": "qOD8MMMzwwgc",
    "outputId": "c90d5d70-e0cc-4534-8245-8d7bc0f8530b"
   },
   "outputs": [],
   "source": [
    "%%time\n",
    "# inference\n",
    "predicted_outlier, predicted_cp = [], []\n",
    "for df in tqdm(list_of_df):\n",
    "    X_train = df[:400].drop(['anomaly', 'changepoint'], axis=1)\n",
    "\n",
    "    # scaler init and fitting\n",
    "    StSc = StandardScaler()\n",
    "    StSc.fit(X_train)\n",
    "\n",
    "    # convert into input/output\n",
    "    X = create_sequences(StSc.transform(X_train), N_STEPS)\n",
    "\n",
    "    # model fitting\n",
    "    model.fit(X)\n",
    "\n",
    "    # results predicting\n",
    "    residuals = pd.Series(np.sum(np.mean(np.abs(X - model.predict(X)), axis=1), axis=1))\n",
    "    UCL = residuals.quantile(Q) * 4/3\n",
    "\n",
    "    # results predicting\n",
    "    X = create_sequences(StSc.transform(df.drop(['anomaly','changepoint'], axis=1)), N_STEPS)\n",
    "    cnn_residuals = pd.Series(np.sum(np.mean(np.abs(X - model.predict(X)), axis=1), axis=1))\n",
    "\n",
    "    # data i is an anomaly if samples [(i - timesteps + 1) to (i)] are anomalies\n",
    "    anomalous_data = cnn_residuals > UCL\n",
    "    anomalous_data_indices = []\n",
    "    for data_idx in range(N_STEPS - 1, len(X) - N_STEPS + 1):\n",
    "        if np.all(anomalous_data[data_idx - N_STEPS + 1 : data_idx]):\n",
    "            anomalous_data_indices.append(data_idx)\n",
    "\n",
    "    prediction = pd.Series(data=0, index=df.index)\n",
    "    prediction.iloc[anomalous_data_indices] = 1\n",
    "\n",
    "    # predicted outliers saving\n",
    "    predicted_outlier.append(prediction)\n",
    "\n",
    "    # predicted CPs saving\n",
    "    prediction_cp = abs(prediction.diff())\n",
    "    prediction_cp[0] = prediction[0]\n",
    "    predicted_cp.append(prediction_cp)"
   ]
  },
  {
   "cell_type": "code",
   "execution_count": null,
   "metadata": {},
   "outputs": [],
   "source": [
    "np.sum([np.prod(v.shape) for v in model.model.trainable_weights])"
   ]
  },
  {
   "cell_type": "markdown",
   "metadata": {},
   "source": [
    "### Labels visualization"
   ]
  },
  {
   "cell_type": "code",
   "execution_count": null,
   "metadata": {},
   "outputs": [],
   "source": [
    "# fix changepoints\n",
    "for df in list_of_df:\n",
    "    df.loc[df.index[0], 'anomaly'] = 0\n",
    "    df['changepoint_true'] = (\n",
    "        (df['anomaly'] != df['anomaly'].shift(1))\n",
    "        .fillna(False)\n",
    "        .astype(float)\n",
    "    )\n",
    "    df.loc[df.index[0], 'changepoint_true'] = 0"
   ]
  },
  {
   "cell_type": "code",
   "execution_count": null,
   "metadata": {},
   "outputs": [],
   "source": [
    "list_of_df[1].head()"
   ]
  },
  {
   "cell_type": "code",
   "execution_count": null,
   "metadata": {},
   "outputs": [],
   "source": [
    "# plotting the labels both for outlier and changepoint detection problems\n",
    "sns.set(rc={\"figure.figsize\": (12, 3)})\n",
    "sns.lineplot(data=list_of_df[1][['anomaly', 'changepoint', 'changepoint_true']])"
   ]
  },
  {
   "cell_type": "markdown",
   "metadata": {
    "id": "TkF-gmQhwwgd"
   },
   "source": [
    "### Results visualization"
   ]
  },
  {
   "cell_type": "code",
   "execution_count": null,
   "metadata": {
    "colab": {
     "base_uri": "https://localhost:8080/",
     "height": 313
    },
    "executionInfo": {
     "elapsed": 9,
     "status": "ok",
     "timestamp": 1712516048725,
     "user": {
      "displayName": "Vladimir Fedoseev",
      "userId": "13989025000887112901"
     },
     "user_tz": -120
    },
    "id": "gj45w9N4wwgd",
    "outputId": "8fa2ce1e-2da4-48b6-83c3-c3df61a80660"
   },
   "outputs": [],
   "source": [
    "# true outlier indices selection\n",
    "true_outlier = [df.anomaly for df in list_of_df]\n",
    "\n",
    "predicted_outlier[0].plot(figsize=(12,3), label='predictions', marker='o', markersize=5)\n",
    "true_outlier[0].plot(marker='o', markersize=2)\n",
    "plt.legend();"
   ]
  },
  {
   "cell_type": "code",
   "execution_count": null,
   "metadata": {},
   "outputs": [],
   "source": [
    "true_cp = [df.changepoint for df in list_of_df]"
   ]
  },
  {
   "cell_type": "code",
   "execution_count": null,
   "metadata": {
    "colab": {
     "base_uri": "https://localhost:8080/",
     "height": 313
    },
    "executionInfo": {
     "elapsed": 1060,
     "status": "ok",
     "timestamp": 1712516055851,
     "user": {
      "displayName": "Vladimir Fedoseev",
      "userId": "13989025000887112901"
     },
     "user_tz": -120
    },
    "id": "8m56HipQwwgd",
    "outputId": "cad15657-2909-4c8f-a606-31dae8c7483a"
   },
   "outputs": [],
   "source": [
    "for i, df in enumerate(list_of_df):\n",
    "    df['predicted_cp'] = predicted_cp[i]\n",
    "sns.lineplot(data=list_of_df[0][['changepoint', 'predicted_cp']])\n",
    "\n",
    "#predicted_cp[0].plot(figsize=(12,3), label='predictions', marker='o', markersize=5)\n",
    "#true_cp[0].plot(marker='o', markersize=2)\n",
    "#plt.legend();"
   ]
  },
  {
   "cell_type": "markdown",
   "metadata": {
    "id": "c9VLkojnwwgd"
   },
   "source": [
    "## Evaluation (metrics calculation)"
   ]
  },
  {
   "cell_type": "markdown",
   "metadata": {
    "id": "MM6MguNZwwge"
   },
   "source": [
    "### Binary classification (outlier detection) metrics"
   ]
  },
  {
   "cell_type": "code",
   "execution_count": null,
   "metadata": {},
   "outputs": [],
   "source": []
  },
  {
   "cell_type": "code",
   "execution_count": null,
   "metadata": {
    "id": "cGJyUld0wwge",
    "outputId": "3909937a-f292-48da-bd2d-a6d7be20b5d8"
   },
   "outputs": [],
   "source": [
    "# binary classification metrics calculation\n",
    "binary = evaluating(\n",
    "    true_outlier,\n",
    "    predicted_outlier,\n",
    "    metric='binary'\n",
    ")"
   ]
  },
  {
   "cell_type": "markdown",
   "metadata": {
    "id": "PEsLKMFXwwge"
   },
   "source": [
    "### Changepoint detection metrics"
   ]
  },
  {
   "cell_type": "code",
   "execution_count": null,
   "metadata": {
    "id": "DQgk1Zubwwge",
    "outputId": "649566be-10f8-40b9-87f9-7e7b5b467c63"
   },
   "outputs": [],
   "source": [
    "# average detection delay metric calculation\n",
    "add = evaluating(\n",
    "    true_cp,\n",
    "    predicted_cp,\n",
    "    metric='average_time',\n",
    "    anomaly_window_destination='righter',\n",
    "    portion=1\n",
    ")"
   ]
  },
  {
   "cell_type": "code",
   "execution_count": null,
   "metadata": {
    "id": "mtRpL74vwwge",
    "outputId": "51a55b7c-d333-42b4-b8e7-31cf367e342f"
   },
   "outputs": [],
   "source": [
    "# nab metric calculation\n",
    "nab = evaluating(\n",
    "    true_cp,\n",
    "    predicted_cp,\n",
    "    metric='nab',\n",
    "    window_width='30S',\n",
    "    anomaly_window_destination='center',\n",
    ")"
   ]
  },
  {
   "cell_type": "code",
   "execution_count": null,
   "metadata": {},
   "outputs": [],
   "source": [
    "8.28\n",
    "5.79\n",
    "10.69"
   ]
  }
 ],
 "metadata": {
  "accelerator": "GPU",
  "colab": {
   "gpuType": "V100",
   "provenance": []
  },
  "kernelspec": {
   "display_name": "Python 3 (ipykernel)",
   "language": "python",
   "name": "python3"
  },
  "language_info": {
   "codemirror_mode": {
    "name": "ipython",
    "version": 3
   },
   "file_extension": ".py",
   "mimetype": "text/x-python",
   "name": "python",
   "nbconvert_exporter": "python",
   "pygments_lexer": "ipython3",
   "version": "3.10.13"
  }
 },
 "nbformat": 4,
 "nbformat_minor": 1
}
